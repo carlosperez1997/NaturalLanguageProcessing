{
 "cells": [
  {
   "cell_type": "code",
   "execution_count": 110,
   "source": [
    "!pip install selenium\n",
    "!pip install webdriver_manager\n",
    "!pip install langdetect"
   ],
   "outputs": [
    {
     "output_type": "stream",
     "name": "stdout",
     "text": [
      "Requirement already satisfied: selenium in /Users/carlosperezricardo/opt/anaconda3/lib/python3.8/site-packages (3.141.0)\n",
      "Requirement already satisfied: urllib3 in /Users/carlosperezricardo/opt/anaconda3/lib/python3.8/site-packages (from selenium) (1.25.11)\n",
      "Requirement already satisfied: webdriver_manager in /Users/carlosperezricardo/opt/anaconda3/lib/python3.8/site-packages (3.4.2)\n",
      "Requirement already satisfied: configparser in /Users/carlosperezricardo/opt/anaconda3/lib/python3.8/site-packages (from webdriver_manager) (5.0.2)\n",
      "Requirement already satisfied: crayons in /Users/carlosperezricardo/opt/anaconda3/lib/python3.8/site-packages (from webdriver_manager) (0.4.0)\n",
      "Requirement already satisfied: requests in /Users/carlosperezricardo/opt/anaconda3/lib/python3.8/site-packages (from webdriver_manager) (2.24.0)\n",
      "Requirement already satisfied: colorama in /Users/carlosperezricardo/opt/anaconda3/lib/python3.8/site-packages (from crayons->webdriver_manager) (0.4.4)\n",
      "Requirement already satisfied: idna<3,>=2.5 in /Users/carlosperezricardo/opt/anaconda3/lib/python3.8/site-packages (from requests->webdriver_manager) (2.10)\n",
      "Requirement already satisfied: chardet<4,>=3.0.2 in /Users/carlosperezricardo/opt/anaconda3/lib/python3.8/site-packages (from requests->webdriver_manager) (3.0.4)\n",
      "Requirement already satisfied: urllib3!=1.25.0,!=1.25.1,<1.26,>=1.21.1 in /Users/carlosperezricardo/opt/anaconda3/lib/python3.8/site-packages (from requests->webdriver_manager) (1.25.11)\n",
      "Requirement already satisfied: certifi>=2017.4.17 in /Users/carlosperezricardo/opt/anaconda3/lib/python3.8/site-packages (from requests->webdriver_manager) (2020.6.20)\n",
      "Requirement already satisfied: langdetect in /Users/carlosperezricardo/opt/anaconda3/lib/python3.8/site-packages (1.0.9)\n",
      "Requirement already satisfied: six in /Users/carlosperezricardo/opt/anaconda3/lib/python3.8/site-packages (from langdetect) (1.15.0)\n"
     ]
    }
   ],
   "metadata": {}
  },
  {
   "cell_type": "code",
   "execution_count": 111,
   "source": [
    "from  selenium import webdriver\n",
    "from bs4 import BeautifulSoup\n",
    "import pandas as pd\n",
    "import numpy as np\n",
    "import time\n",
    "import os\n",
    "from os.path  import basename\n",
    "import requests\n",
    "from webdriver_manager.chrome import ChromeDriverManager\n",
    "from selenium.webdriver.common.keys import Keys\n",
    "\n",
    "import re\n",
    "\n",
    "from langdetect import detect"
   ],
   "outputs": [],
   "metadata": {}
  },
  {
   "cell_type": "code",
   "execution_count": 112,
   "source": [
    "reviews = pd.read_csv('reviews.csv', index_col = 0)"
   ],
   "outputs": [],
   "metadata": {}
  },
  {
   "cell_type": "code",
   "execution_count": 113,
   "source": [
    "reviews"
   ],
   "outputs": [
    {
     "output_type": "execute_result",
     "data": {
      "text/html": [
       "<div>\n",
       "<style scoped>\n",
       "    .dataframe tbody tr th:only-of-type {\n",
       "        vertical-align: middle;\n",
       "    }\n",
       "\n",
       "    .dataframe tbody tr th {\n",
       "        vertical-align: top;\n",
       "    }\n",
       "\n",
       "    .dataframe thead th {\n",
       "        text-align: right;\n",
       "    }\n",
       "</style>\n",
       "<table border=\"1\" class=\"dataframe\">\n",
       "  <thead>\n",
       "    <tr style=\"text-align: right;\">\n",
       "      <th></th>\n",
       "      <th>title</th>\n",
       "      <th>body</th>\n",
       "      <th>user</th>\n",
       "    </tr>\n",
       "  </thead>\n",
       "  <tbody>\n",
       "    <tr>\n",
       "      <th>0</th>\n",
       "      <td>Didn’t live up to the hype, not worth the $</td>\n",
       "      <td>Still advertising photos looked better than th...</td>\n",
       "      <td>Alicia H.</td>\n",
       "    </tr>\n",
       "    <tr>\n",
       "      <th>1</th>\n",
       "      <td>Nice 1hr show to enjoy with family</td>\n",
       "      <td>A nice show with good music during the present...</td>\n",
       "      <td>Timo Marquez</td>\n",
       "    </tr>\n",
       "    <tr>\n",
       "      <th>2</th>\n",
       "      <td>Unique</td>\n",
       "      <td>The hour long program continues on a loop so y...</td>\n",
       "      <td>milwmomof4</td>\n",
       "    </tr>\n",
       "    <tr>\n",
       "      <th>3</th>\n",
       "      <td>Different perspective than traditionnal museums</td>\n",
       "      <td>Great Dali and Gaudi show.It's worth a trip, t...</td>\n",
       "      <td>Yann2002</td>\n",
       "    </tr>\n",
       "    <tr>\n",
       "      <th>4</th>\n",
       "      <td>Different way to view art</td>\n",
       "      <td>Nice way to view art in a different way. When ...</td>\n",
       "      <td>Kaylee</td>\n",
       "    </tr>\n",
       "    <tr>\n",
       "      <th>...</th>\n",
       "      <td>...</td>\n",
       "      <td>...</td>\n",
       "      <td>...</td>\n",
       "    </tr>\n",
       "    <tr>\n",
       "      <th>3945</th>\n",
       "      <td>Atelier des Lumières,,, sublime!!</td>\n",
       "      <td>Arte inmersivo, maravilloso! Estuve en la expo...</td>\n",
       "      <td>Gabriel l</td>\n",
       "    </tr>\n",
       "    <tr>\n",
       "      <th>3946</th>\n",
       "      <td>Una maravilla</td>\n",
       "      <td>Preciosa experiencia. No estaba muy convencida...</td>\n",
       "      <td>Tris Mabel</td>\n",
       "    </tr>\n",
       "    <tr>\n",
       "      <th>3947</th>\n",
       "      <td>Quedé maravillado!</td>\n",
       "      <td>Asistí al espectáculo \"La nuit étoilée\" sobre ...</td>\n",
       "      <td>errthu</td>\n",
       "    </tr>\n",
       "    <tr>\n",
       "      <th>3948</th>\n",
       "      <td>Muy buena experiencia para los sentidos</td>\n",
       "      <td>El lugar está muy bien, la muestra que vimos f...</td>\n",
       "      <td>ctaracena</td>\n",
       "    </tr>\n",
       "    <tr>\n",
       "      <th>3949</th>\n",
       "      <td>Muy lindo pero falta organización!</td>\n",
       "      <td>Me gusto mucho el show, pero no pude disfrutar...</td>\n",
       "      <td>eap990</td>\n",
       "    </tr>\n",
       "  </tbody>\n",
       "</table>\n",
       "<p>3950 rows × 3 columns</p>\n",
       "</div>"
      ],
      "text/plain": [
       "                                                title  \\\n",
       "0         Didn’t live up to the hype, not worth the $   \n",
       "1                  Nice 1hr show to enjoy with family   \n",
       "2                                              Unique   \n",
       "3     Different perspective than traditionnal museums   \n",
       "4                           Different way to view art   \n",
       "...                                               ...   \n",
       "3945                Atelier des Lumières,,, sublime!!   \n",
       "3946                                    Una maravilla   \n",
       "3947                               Quedé maravillado!   \n",
       "3948          Muy buena experiencia para los sentidos   \n",
       "3949              Muy lindo pero falta organización!    \n",
       "\n",
       "                                                   body          user  \n",
       "0     Still advertising photos looked better than th...     Alicia H.  \n",
       "1     A nice show with good music during the present...  Timo Marquez  \n",
       "2     The hour long program continues on a loop so y...    milwmomof4  \n",
       "3     Great Dali and Gaudi show.It's worth a trip, t...      Yann2002  \n",
       "4     Nice way to view art in a different way. When ...        Kaylee  \n",
       "...                                                 ...           ...  \n",
       "3945  Arte inmersivo, maravilloso! Estuve en la expo...     Gabriel l  \n",
       "3946  Preciosa experiencia. No estaba muy convencida...    Tris Mabel  \n",
       "3947  Asistí al espectáculo \"La nuit étoilée\" sobre ...        errthu  \n",
       "3948  El lugar está muy bien, la muestra que vimos f...     ctaracena  \n",
       "3949  Me gusto mucho el show, pero no pude disfrutar...        eap990  \n",
       "\n",
       "[3950 rows x 3 columns]"
      ]
     },
     "metadata": {},
     "execution_count": 113
    }
   ],
   "metadata": {}
  },
  {
   "cell_type": "code",
   "execution_count": 114,
   "source": [
    "web_link = 'https://translate.systran.net/'"
   ],
   "outputs": [],
   "metadata": {}
  },
  {
   "cell_type": "code",
   "execution_count": 115,
   "source": [
    "driver = webdriver.Chrome(ChromeDriverManager().install())"
   ],
   "outputs": [
    {
     "output_type": "stream",
     "name": "stderr",
     "text": [
      "\n",
      "\n",
      "====== WebDriver manager ======\n",
      "Current google-chrome version is 93.0.4577\n",
      "Get LATEST driver version for 93.0.4577\n",
      "Driver [/Users/carlosperezricardo/.wdm/drivers/chromedriver/mac64/93.0.4577.15/chromedriver] found in cache\n"
     ]
    }
   ],
   "metadata": {}
  },
  {
   "cell_type": "code",
   "execution_count": 116,
   "source": [
    "driver.get(web_link)\n",
    "time.sleep(4)"
   ],
   "outputs": [],
   "metadata": {}
  },
  {
   "cell_type": "code",
   "execution_count": 117,
   "source": [
    "text = 'Muy lindo y  diferente admirar el arte de otra manera.Buena experiencia para los niños, el movimiento y las luces lo hacen muy divertido'"
   ],
   "outputs": [],
   "metadata": {}
  },
  {
   "cell_type": "code",
   "execution_count": 118,
   "source": [
    "detect(text)"
   ],
   "outputs": [
    {
     "output_type": "execute_result",
     "data": {
      "text/plain": [
       "'es'"
      ]
     },
     "metadata": {},
     "execution_count": 118
    }
   ],
   "metadata": {}
  },
  {
   "cell_type": "code",
   "execution_count": 119,
   "source": [
    "#inputEditor\n",
    "driver.find_element_by_class_name(\"form-control\").send_keys(text)"
   ],
   "outputs": [],
   "metadata": {}
  },
  {
   "cell_type": "code",
   "execution_count": 120,
   "source": [
    "content = driver.page_source\n",
    "soup = BeautifulSoup(content)    "
   ],
   "outputs": [],
   "metadata": {}
  },
  {
   "cell_type": "code",
   "execution_count": 121,
   "source": [
    "translation = soup.find(id=\"outputEditor\")\n",
    "translation.text"
   ],
   "outputs": [
    {
     "output_type": "execute_result",
     "data": {
      "text/plain": [
       "''"
      ]
     },
     "metadata": {},
     "execution_count": 121
    }
   ],
   "metadata": {}
  },
  {
   "cell_type": "code",
   "execution_count": 122,
   "source": [
    "from selenium.webdriver.common.keys import Keys"
   ],
   "outputs": [],
   "metadata": {}
  },
  {
   "cell_type": "code",
   "execution_count": 123,
   "source": [
    "# Clean result\n",
    "text_area = driver.find_element_by_class_name('form-control')\n",
    "#driver.find_element_by_class_name('form-control').send_keys(Keys.DELETE)"
   ],
   "outputs": [],
   "metadata": {}
  },
  {
   "cell_type": "code",
   "execution_count": 124,
   "source": [
    "for i in range(len(text)):\n",
    "    text_area.send_keys(Keys.BACKSPACE)"
   ],
   "outputs": [],
   "metadata": {}
  },
  {
   "cell_type": "code",
   "execution_count": 125,
   "source": [
    "reviews['lang'] = '' \n",
    "reviews['translation'] = ''"
   ],
   "outputs": [],
   "metadata": {}
  },
  {
   "cell_type": "code",
   "execution_count": 126,
   "source": [
    "reviews.head()"
   ],
   "outputs": [
    {
     "output_type": "execute_result",
     "data": {
      "text/html": [
       "<div>\n",
       "<style scoped>\n",
       "    .dataframe tbody tr th:only-of-type {\n",
       "        vertical-align: middle;\n",
       "    }\n",
       "\n",
       "    .dataframe tbody tr th {\n",
       "        vertical-align: top;\n",
       "    }\n",
       "\n",
       "    .dataframe thead th {\n",
       "        text-align: right;\n",
       "    }\n",
       "</style>\n",
       "<table border=\"1\" class=\"dataframe\">\n",
       "  <thead>\n",
       "    <tr style=\"text-align: right;\">\n",
       "      <th></th>\n",
       "      <th>title</th>\n",
       "      <th>body</th>\n",
       "      <th>user</th>\n",
       "      <th>lang</th>\n",
       "      <th>translation</th>\n",
       "    </tr>\n",
       "  </thead>\n",
       "  <tbody>\n",
       "    <tr>\n",
       "      <th>0</th>\n",
       "      <td>Didn’t live up to the hype, not worth the $</td>\n",
       "      <td>Still advertising photos looked better than th...</td>\n",
       "      <td>Alicia H.</td>\n",
       "      <td></td>\n",
       "      <td></td>\n",
       "    </tr>\n",
       "    <tr>\n",
       "      <th>1</th>\n",
       "      <td>Nice 1hr show to enjoy with family</td>\n",
       "      <td>A nice show with good music during the present...</td>\n",
       "      <td>Timo Marquez</td>\n",
       "      <td></td>\n",
       "      <td></td>\n",
       "    </tr>\n",
       "    <tr>\n",
       "      <th>2</th>\n",
       "      <td>Unique</td>\n",
       "      <td>The hour long program continues on a loop so y...</td>\n",
       "      <td>milwmomof4</td>\n",
       "      <td></td>\n",
       "      <td></td>\n",
       "    </tr>\n",
       "    <tr>\n",
       "      <th>3</th>\n",
       "      <td>Different perspective than traditionnal museums</td>\n",
       "      <td>Great Dali and Gaudi show.It's worth a trip, t...</td>\n",
       "      <td>Yann2002</td>\n",
       "      <td></td>\n",
       "      <td></td>\n",
       "    </tr>\n",
       "    <tr>\n",
       "      <th>4</th>\n",
       "      <td>Different way to view art</td>\n",
       "      <td>Nice way to view art in a different way. When ...</td>\n",
       "      <td>Kaylee</td>\n",
       "      <td></td>\n",
       "      <td></td>\n",
       "    </tr>\n",
       "  </tbody>\n",
       "</table>\n",
       "</div>"
      ],
      "text/plain": [
       "                                             title  \\\n",
       "0      Didn’t live up to the hype, not worth the $   \n",
       "1               Nice 1hr show to enjoy with family   \n",
       "2                                           Unique   \n",
       "3  Different perspective than traditionnal museums   \n",
       "4                        Different way to view art   \n",
       "\n",
       "                                                body          user lang  \\\n",
       "0  Still advertising photos looked better than th...     Alicia H.        \n",
       "1  A nice show with good music during the present...  Timo Marquez        \n",
       "2  The hour long program continues on a loop so y...    milwmomof4        \n",
       "3  Great Dali and Gaudi show.It's worth a trip, t...      Yann2002        \n",
       "4  Nice way to view art in a different way. When ...        Kaylee        \n",
       "\n",
       "  translation  \n",
       "0              \n",
       "1              \n",
       "2              \n",
       "3              \n",
       "4              "
      ]
     },
     "metadata": {},
     "execution_count": 126
    }
   ],
   "metadata": {}
  },
  {
   "cell_type": "code",
   "execution_count": 127,
   "source": [
    "range(reviews.shape[0])"
   ],
   "outputs": [
    {
     "output_type": "execute_result",
     "data": {
      "text/plain": [
       "range(0, 3950)"
      ]
     },
     "metadata": {},
     "execution_count": 127
    }
   ],
   "metadata": {}
  },
  {
   "cell_type": "code",
   "execution_count": 128,
   "source": [
    "index = 100\n",
    "review = reviews.iloc[index]\n",
    "review"
   ],
   "outputs": [
    {
     "output_type": "execute_result",
     "data": {
      "text/plain": [
       "title            EXHIBICIÓN MUY DIFERENTE DE LA OBRA DE VAN GOGH\n",
       "body           Un lugar excelente para presentaciones muy dif...\n",
       "user                                                   Natàlia Q\n",
       "lang                                                            \n",
       "translation                                                     \n",
       "Name: 100, dtype: object"
      ]
     },
     "metadata": {},
     "execution_count": 128
    }
   ],
   "metadata": {}
  },
  {
   "cell_type": "code",
   "execution_count": 129,
   "source": [
    "body = review['body']\n",
    "lang = detect(body)\n",
    "#print(lang)\n",
    "reviews.iloc[index]['lang'] = lang\n",
    "print(lang)\n"
   ],
   "outputs": [
    {
     "output_type": "stream",
     "name": "stdout",
     "text": [
      "es\n"
     ]
    },
    {
     "output_type": "stream",
     "name": "stderr",
     "text": [
      "<ipython-input-129-60b3d83ad669>:4: SettingWithCopyWarning: \n",
      "A value is trying to be set on a copy of a slice from a DataFrame\n",
      "\n",
      "See the caveats in the documentation: https://pandas.pydata.org/pandas-docs/stable/user_guide/indexing.html#returning-a-view-versus-a-copy\n",
      "  reviews.iloc[index]['lang'] = lang\n"
     ]
    }
   ],
   "metadata": {}
  },
  {
   "cell_type": "code",
   "execution_count": 130,
   "source": [
    "text_area = driver.find_element_by_class_name('form-control')"
   ],
   "outputs": [],
   "metadata": {}
  },
  {
   "cell_type": "code",
   "execution_count": 131,
   "source": [
    "stop"
   ],
   "outputs": [
    {
     "output_type": "error",
     "ename": "NameError",
     "evalue": "name 'stop' is not defined",
     "traceback": [
      "\u001b[0;31m---------------------------------------------------------------------------\u001b[0m",
      "\u001b[0;31mNameError\u001b[0m                                 Traceback (most recent call last)",
      "\u001b[0;32m<ipython-input-131-4f76a9dad686>\u001b[0m in \u001b[0;36m<module>\u001b[0;34m\u001b[0m\n\u001b[0;32m----> 1\u001b[0;31m \u001b[0mstop\u001b[0m\u001b[0;34m\u001b[0m\u001b[0;34m\u001b[0m\u001b[0m\n\u001b[0m",
      "\u001b[0;31mNameError\u001b[0m: name 'stop' is not defined"
     ]
    }
   ],
   "metadata": {}
  },
  {
   "cell_type": "code",
   "execution_count": 132,
   "source": [
    "driver.find_element_by_class_name(\"form-control\").send_keys( body )\n",
    "time.sleep(5) "
   ],
   "outputs": [],
   "metadata": {}
  },
  {
   "cell_type": "code",
   "execution_count": 133,
   "source": [
    "content = driver.page_source\n",
    "soup = BeautifulSoup(content)  "
   ],
   "outputs": [],
   "metadata": {}
  },
  {
   "cell_type": "code",
   "execution_count": null,
   "source": [
    "names = soup.findAll(class_=\"_2nBYkPk3\")\n",
    "names[0]"
   ],
   "outputs": [
    {
     "data": {
      "text/plain": [
       "<div class=\"_2nBYkPk3\"><div class=\"_1o0NHSNc\"><div class=\"_3t0zrF_f\"><div class=\"HiSmthtM\"><div class=\"_1Ear6tw9\" style=\"z-index: 0;\"><div class=\"f3gJ-yIA _1UrkpMOY\"><a aria-hidden=\"true\" class=\"_7c6GgQ6n _22upaSQN _37QDe3gr\" href=\"/Profile/nat_liaq\" tabindex=\"-1\" target=\"_self\"><div class=\"WullykOU _2L7OTqqK\"><picture class=\"_2f-Th360 _3YW9cIgT\" style=\"width: 48px; height: 48px;\"><img alt=\"Natàlia Q\" height=\"100\" loading=\"lazy\" src=\"https://dynamic-media-cdn.tripadvisor.com/media/photo-o/1a/f6/ea/74/default-avatar-2020-68.jpg?w=100&amp;h=-1&amp;s=1\" width=\"100\"/></picture></div></a></div></div></div></div><div class=\"_1svEu5jc\"><span class=\"DrjyGw-P _1SRa-qNz _2AAjjcx8\"><a class=\"_7c6GgQ6n _22upaSQN _37QDe3gr WullykOU _3WoyIIcL\" href=\"/Profile/nat_liaq\" target=\"_self\">Natàlia Q</a></span><div class=\"_22DaYeMb\"><div class=\"DrjyGw-P _26S7gyB4 _1dimhEoy\"><span>Sant Cugat del Vallès, España</span></div></div><div class=\"_22DaYeMb\"><div class=\"DrjyGw-P _26S7gyB4 _1dimhEoy\">155 contribuciones</div></div></div></div><div class=\"_2WOrDRiF\"><button aria-label=\"Haz clic para añadir un voto útil\" class=\"_23XJjgWS _22upaSQN _19q-BrlM _1XffX-CB\" type=\"button\"><svg class=\"_3nS1tofR iG08Yf8B\" height=\"20px\" viewbox=\"0 0 24 24\" width=\"20px\"><path d=\"M3.025 9.963c-.566 0-1.025.459-1.025 1.025v9.732h2.051v-9.732c0-.566-.459-1.025-1.026-1.025zM21.493 9.111a2.05 2.05 0 00-1.546-.703h-4.306l.541-2.67c.122-.606-.032-1.228-.424-1.706s-.97-.753-1.588-.753h-2.348l-5.72 7.358V20.72h12.59a2.038 2.038 0 002.027-1.74l1.261-8.241a2.045 2.045 0 00-.487-1.628zm-2.799 9.557H8.154v-7.326l4.672-6.01h1.345l-1.037 5.128 6.816-.015-1.256 8.223z\"></path></svg><span class=\"_37Nr884k\"><span class=\"DrjyGw-P _1fMYVrTC\"><span class=\"DrjyGw-P _26S7gyB4 _3SccQt-T\">2</span></span></span></button><div class=\"_1ia-z9S2\"><div class=\"vqgb0SM-\"><button aria-haspopup=\"menu\" aria-label=\"Abrir el menú Opciones\" class=\"_23XJjgWS _22upaSQN _19q-BrlM _1XffX-CB\" type=\"button\"><svg class=\"_3nS1tofR iG08Yf8B\" height=\"20px\" viewbox=\"0 0 24 24\" width=\"20px\" x=\"0\" y=\"0\"><circle cx=\"12\" cy=\"19.4\" r=\"2.5\"></circle><circle cx=\"12\" cy=\"4.4\" r=\"2.5\"></circle><circle cx=\"12\" cy=\"11.9\" r=\"2.5\"></circle></svg></button></div></div></div></div>"
      ]
     },
     "metadata": {},
     "output_type": "display_data"
    }
   ],
   "metadata": {}
  },
  {
   "cell_type": "code",
   "execution_count": 134,
   "source": [
    "translation_ = soup.find(id=\"outputEditor\")\n",
    "translation_.text"
   ],
   "outputs": [
    {
     "output_type": "execute_result",
     "data": {
      "text/plain": [
       "'An excellent place for very different presentations. Located in the central sector. The exhibitions of the different artists are appreciated in a unique and pleasant way.'"
      ]
     },
     "metadata": {},
     "execution_count": 134
    }
   ],
   "metadata": {}
  },
  {
   "cell_type": "code",
   "execution_count": 135,
   "source": [
    "translation = translation_.text\n",
    "reviews.iloc[index]['translation'] = translation"
   ],
   "outputs": [
    {
     "output_type": "stream",
     "name": "stderr",
     "text": [
      "<ipython-input-135-f4e045cb0707>:2: SettingWithCopyWarning: \n",
      "A value is trying to be set on a copy of a slice from a DataFrame\n",
      "\n",
      "See the caveats in the documentation: https://pandas.pydata.org/pandas-docs/stable/user_guide/indexing.html#returning-a-view-versus-a-copy\n",
      "  reviews.iloc[index]['translation'] = translation\n"
     ]
    }
   ],
   "metadata": {}
  },
  {
   "cell_type": "code",
   "execution_count": 136,
   "source": [
    "print(translation)"
   ],
   "outputs": [
    {
     "output_type": "stream",
     "name": "stdout",
     "text": [
      "An excellent place for very different presentations. Located in the central sector. The exhibitions of the different artists are appreciated in a unique and pleasant way.\n"
     ]
    }
   ],
   "metadata": {}
  },
  {
   "cell_type": "code",
   "execution_count": 137,
   "source": [
    "#print(body,'\\n')\n",
    "#print(translation,'\\n')\n",
    "for i in range(len(body)):\n",
    "    text_area.send_keys(Keys.BACKSPACE)"
   ],
   "outputs": [],
   "metadata": {}
  },
  {
   "cell_type": "code",
   "execution_count": 140,
   "source": [
    "content = driver.page_source\n",
    "soup = BeautifulSoup(content)  "
   ],
   "outputs": [],
   "metadata": {}
  },
  {
   "cell_type": "code",
   "execution_count": 143,
   "source": [
    "text_still = soup.find(class_='form-control')\n",
    "text_still.text\n",
    "\n",
    "if text_still.text == '': \n",
    "    finish = True"
   ],
   "outputs": [],
   "metadata": {}
  },
  {
   "cell_type": "code",
   "execution_count": 144,
   "source": [
    "for index, review in reviews.iterrows():\n",
    "    #print(review)\n",
    "    body = review['body']\n",
    "    lang = detect(body)\n",
    "    #print(lang)\n",
    "    reviews.iloc[index]['lang'] = lang\n",
    "    #print(body, '\\n')\n",
    "\n",
    "    text_area = driver.find_element_by_class_name('form-control')\n",
    "\n",
    "    if lang != 'en':\n",
    "        driver.find_element_by_class_name(\"form-control\").send_keys( body )\n",
    "        time.sleep(1)\n",
    "\n",
    "        content = driver.page_source\n",
    "        soup = BeautifulSoup(content)    \n",
    "\n",
    "        translation_ = soup.find(id=\"outputEditor\")\n",
    "        translation = translation_.text\n",
    "        reviews.iloc[index]['translation'] = translation\n",
    "\n",
    "        print(body,'\\n')\n",
    "        print(translation,'\\n')\n",
    "        for i in range(len(body)):\n",
    "            text_area.send_keys(Keys.BACKSPACE)\n",
    "        time.sleep(5)\n",
    "    else:\n",
    "        translation = body\n",
    "        reviews.iloc[index]['translation'] = translation\n",
    "    \n",
    "    #print(translation, '\\n')\n",
    "    print(index)\n"
   ],
   "outputs": [
    {
     "output_type": "stream",
     "name": "stdout",
     "text": [
      "0\n",
      "1\n",
      "2\n",
      "3\n",
      "4\n",
      "5\n",
      "6\n",
      "7\n",
      "8\n",
      "9\n",
      "Es una única pero enorme sala de techos altos donde proyectan de manera ininterrumpida imágenes de cuadros, sobretodo impresionistas, a ritmo de la música.  Dura unos 40-45 minutos más o menos. La reacción inicial es de sorpresa y maravilla. Es muy impresionante verse envuelto de luces preciosas por todos lados. Sin embargo, al cabo del rato se hace un poco pobre y repetitivo. Te relajas tanto que yo y mi hijo nos dormimos unos segundos. Seguro que no fuimos los únicos. Debería haber más salas o un itinerario definido para irse moviendo. En cambio, la gente acaba sentándose donde puede y mirando la proyección, como si fuera un cine Imax. No está mal, pero me pareció desaprovechado. \n",
      "\n",
      "It is a unique but enormous room with high ceilings where images of paintings, especially impressionists, are projected uninterrupted to the rhythm of music.  It takes about 40-45 minutes or so. The initial reaction is one of surprise and wonder. It's very impressive to be enveloped in beautiful lights everywhere. However, after a while it becomes a little poor and repetitive. You relax so much that I and my son fell asleep for a few seconds. I'm sure we weren't the only ones. There should be more rooms or a definite itinerary to get moving. Instead, people end up sitting where they can and watching the screening, like it's an Imax movie theater. Not bad, but I found it wasted. \n",
      "\n",
      "10\n",
      "La idea es buena, la técnica de proyeccion de las imagenes de cuadros es impresionante y la musica muy agradable.Podria haber sido una experiencia muy agradable y no lo fue por una mala organización.Si hay una reserva horaria porque no se vacia la sala? En epoca de post-confinamiento esperabamos encontrarnos con mucha menos gente. La gente se queda de una proyeccion a la siguiente. La direccion podria exigir que la sala se vacie cada hora y seria mucho mas agradable para todos.Y otra posibilidad de mejora seria la opcion con niños y sin niños. O con niños mayores de una cierta edad (por ej:10 años). Para mi fue muy desagradable aguantar los niños bailando y gritando a mi alrededor que no me permitieron disfrutar de la musica. Hay carteles donde se precisa que hay que guardar silencio y no se permite comer dentro y ninguna de las dos cosas fueron respetadas por los grupos de padres con niños.Una pena! \n",
      "\n",
      "The idea is good, the technique of projecting the images of paintings is impressive and the music very pleasant.It could have been a very pleasant experience and it was not for a bad organization.If there is a time reservation because it does not empty the room? In post-confinement times we expected to meet far fewer people. People stay from one projection to the next. The management could demand that the room empties every hour and would be much more pleasant for everyone.And another possibility of improvement would be the option with children and without children. Or with children older than a certain age (e.g. 10 years). For me it was very unpleasant to put up with the children dancing and screaming around me that I wasn't allowed to enjoy the music. There are posters where it is necessary to keep quiet and not allowed to eat inside and neither were respected by groups of parents with children. \n",
      "\n",
      "11\n",
      "Muy lindo y  diferente admirar el arte de otra manera.Buena experiencia para los niños, el movimiento y las luces lo hacen muy divertido \n",
      "\n",
      "Very nice and different to admire art in another way.Good experience for children, movement and lights make it very fun \n",
      "\n",
      "12\n",
      "Si quereis conocer al pintor y su obra , buscar en internet , se aprende mas . Exposicion pobre , mucho bombo a unos pocos cuadros y omision total al resto. No encontre mis cuadros preferidos.Lo mejor la música.Decepcion absoluta \n",
      "\n",
      "If you want to know the painter and his work , search the internet , you learn more . Poor exposure, a lot of hype to a few pictures and total omission to the rest. I didn't find my favorite paintings. Best music. Absolute disappointment \n",
      "\n",
      "13\n",
      "Visité la muestra de Van Gogh junto a mi hijo de 9 años. Simplemente maravillosa! La disfrutamos mucho en un ambiente distendido, inmersivo, con imágenes y música geniales. Sin dudas, no se lo pierdan! Eso si, vayan con tiempo; vale la pena! \n",
      "\n",
      "I visited Van Gogh's show with my 9-year-old son. Just wonderful! We enjoyed it very much in a relaxed, immersive environment, with great images and music. No doubt, don't miss it! If so, go with time; It's worth it! \n",
      "\n",
      "14\n",
      "Nos gustó.  Consta de tres proyecciones Dos cortas y una larga qué es la más interesante. El mejor lugar pará verlo es sobre un balcón en el primer piso (se sube por escalera). El acceso es ágil tiene guarda bultos gratis y baños a la entrada. El boleto cuesta 14,5 euros y si bien en la página dice qué sólo sé puede comprar por internet hay boletería en el lugar. Los fines de semana es difícil conseguir lugar. Nos gustó una experiencia distinta a un precio razonable. \n",
      "\n",
      "We liked it.  It consists of three projections Two short and a long which is the most interesting. The best place to see it is on a balcony on the first floor (you climb a ladder). The access is agile has free lumps and bathrooms at the entrance. The ticket costs 14.5 euros and while on the page it says that I only know can buy online there are tickets on the place. Weekends are hard to get a place. We liked a different experience at a reasonable price. \n",
      "\n",
      "15\n",
      "La exposición muy bien, lo que esperaba.. dura como 20 min .. comienza a los :00 y :30, cada hora, y hacen dos diferentes, así qué hay que estar ahí 1 hr para ver todo. Lo único malo fue la atención, se nota que ya están artos de tanta gente ..  \n",
      "\n",
      "The exhibition very well, what I expected.. it lasts about 20 minutes.. it starts at 12:00 and 12:30, every hour, and they do two different, so you have to be there 1 hr to see everything. The only bad thing was the attention, you can tell that they are sick of so many people.. \n",
      "\n",
      "16\n",
      "Acudí movido por las opiniones que había leído al respecto y no me defraudó. La única pega que le pongo es que al permitir la entrada del público en cualquier momento, se producen algunas distracciones que dificultan la inmersión. También, aunque creo que lo ideal es disfrutar caminando por la sala, se dificulta esto por las distracciones de los niños correteando por la sala (esto n9 es culpa de la organización sino de los padres de los mismos)En definitiva, muy recomendable aunque yo pondría un límite para no permitir entrar mientras se está desarrollando la exhibición  \n",
      "\n",
      "I came in moved by the opinions I had read about it and I was not disappointed. The only hitch I'm putting to it is that by allowing the public in at any time, some distractions occur that make it difficult to immerse. Also, although I think that the ideal is to enjoy walking through the room, this is made difficult by the distractions of children running through the room (this n9 is the fault of the organization but of the parents of the same)In short, highly recommended although I would put a limit to not allow entering while the exhibition is developing \n",
      "\n",
      "17\n",
      "Para tener una experiencia de arte diferente y contemporánea, este es el lugar. La percepción que se puede tener al ver las obras de artistas como Van Gogh proyectadas en una escala a la que no estamos acostumbrados a ver, es una inmersión diferente en el arte. El acompañamiento de música y un amplio espacio hace de la exposición algo original. Puede llegar todo tipo de público interesado en los artistas expuestos, desde niños hasta gente mayor. Hay espacio para sentarse, para ver desde arriba, en un cuarto de espejos, tirado en el suelo o corriendo alrededor como lo hacen algunos niños. Vale la pena verla. \n",
      "\n",
      "For a different and contemporary art experience, this is the place. The perception that you can get from seeing the works of artists like Van Gogh projected on a scale that we're not used to seeing, is a different immersion in art. The accompaniment of music and a large space makes the exhibition original. All kinds of audiences interested in exhibited artists can arrive, from children to older people. There's room to sit, to watch from above, in a mirror room, lying on the floor or running around like some kids do. It's worth seeing. \n",
      "\n",
      "18\n",
      "Tenía programada visita a Paris para las fechas en que estaba la exibición de la obra de Van Gogh y por supuesto la aproveché. Como sorpresa llevamos allí a unas familiarias que no tenían ni idea de lo que iban a ver y quedaron aún más maravilladas que nosotoros. La atención de la sale estupenda, llegamos con un poco de antelación y nos dejaron pasar sin problema y tampoco te ponían un tiempo límite para salir. El recinto dispone de taquillas gratuitas para que no estes cargando con los abrigos. La exposición espectacular, todos quedamos encantados, si tenéis ocasión no la desaprovechéis. \n",
      "\n",
      " \n",
      "\n",
      "19\n",
      "Un lugar excelente para presentaciones muy diferentes. Situado en sector céntrico. Las exhibiciones de los diferentes artistas se aprecian de forma única y agradable. \n",
      "\n",
      "An excellent place for very different presentations. Located in the central sector. The exhibitions of the different artists are appreciated in a unique and pleasant way. \n",
      "\n",
      "20\n",
      " Una muestra inmersiva alucinante, con imágenes de las obras de Van Gogh que evolucionan a partir de una música impactante. Eriza la piel y es una manera diferente de acercarse a las obras de grandes artistas. \n",
      "\n",
      " \n",
      "\n",
      "21\n",
      "El Atelier des Lumiere está situado entre La Bastille y Nation es una anciana fábrica en el 10 arrondissement. Se exponen exposiciones monumentales con videoproyecciones y sonidos Este año fue dedicado a Van Gogh excelente y majestuoso.Un momento maravilloso apreciar la obra de este excelente pintor, en este tipo de manifestación con vídeo proyecciones y una sonorización única.Lo recomiendo es imperdible. \n",
      "\n",
      " \n",
      "\n",
      "22\n",
      "Me encanto! Una muestra distinta, proyección de las obras de Klimt y Schielle. Muy buena calidad. Muy fácil llegar con el metro. \n",
      "\n",
      " \n",
      "\n"
     ]
    },
    {
     "output_type": "error",
     "ename": "KeyboardInterrupt",
     "evalue": "",
     "traceback": [
      "\u001b[0;31m---------------------------------------------------------------------------\u001b[0m",
      "\u001b[0;31mKeyboardInterrupt\u001b[0m                         Traceback (most recent call last)",
      "\u001b[0;32m<ipython-input-144-a10538652643>\u001b[0m in \u001b[0;36m<module>\u001b[0;34m\u001b[0m\n\u001b[1;32m     24\u001b[0m         \u001b[0;32mfor\u001b[0m \u001b[0mi\u001b[0m \u001b[0;32min\u001b[0m \u001b[0mrange\u001b[0m\u001b[0;34m(\u001b[0m\u001b[0mlen\u001b[0m\u001b[0;34m(\u001b[0m\u001b[0mbody\u001b[0m\u001b[0;34m)\u001b[0m\u001b[0;34m)\u001b[0m\u001b[0;34m:\u001b[0m\u001b[0;34m\u001b[0m\u001b[0;34m\u001b[0m\u001b[0m\n\u001b[1;32m     25\u001b[0m             \u001b[0mtext_area\u001b[0m\u001b[0;34m.\u001b[0m\u001b[0msend_keys\u001b[0m\u001b[0;34m(\u001b[0m\u001b[0mKeys\u001b[0m\u001b[0;34m.\u001b[0m\u001b[0mBACKSPACE\u001b[0m\u001b[0;34m)\u001b[0m\u001b[0;34m\u001b[0m\u001b[0;34m\u001b[0m\u001b[0m\n\u001b[0;32m---> 26\u001b[0;31m         \u001b[0mtime\u001b[0m\u001b[0;34m.\u001b[0m\u001b[0msleep\u001b[0m\u001b[0;34m(\u001b[0m\u001b[0;36m5\u001b[0m\u001b[0;34m)\u001b[0m\u001b[0;34m\u001b[0m\u001b[0;34m\u001b[0m\u001b[0m\n\u001b[0m\u001b[1;32m     27\u001b[0m     \u001b[0;32melse\u001b[0m\u001b[0;34m:\u001b[0m\u001b[0;34m\u001b[0m\u001b[0;34m\u001b[0m\u001b[0m\n\u001b[1;32m     28\u001b[0m         \u001b[0mtranslation\u001b[0m \u001b[0;34m=\u001b[0m \u001b[0mbody\u001b[0m\u001b[0;34m\u001b[0m\u001b[0;34m\u001b[0m\u001b[0m\n",
      "\u001b[0;31mKeyboardInterrupt\u001b[0m: "
     ]
    }
   ],
   "metadata": {}
  },
  {
   "cell_type": "code",
   "execution_count": 145,
   "source": [
    "reviews.head()"
   ],
   "outputs": [
    {
     "output_type": "execute_result",
     "data": {
      "text/html": [
       "<div>\n",
       "<style scoped>\n",
       "    .dataframe tbody tr th:only-of-type {\n",
       "        vertical-align: middle;\n",
       "    }\n",
       "\n",
       "    .dataframe tbody tr th {\n",
       "        vertical-align: top;\n",
       "    }\n",
       "\n",
       "    .dataframe thead th {\n",
       "        text-align: right;\n",
       "    }\n",
       "</style>\n",
       "<table border=\"1\" class=\"dataframe\">\n",
       "  <thead>\n",
       "    <tr style=\"text-align: right;\">\n",
       "      <th></th>\n",
       "      <th>title</th>\n",
       "      <th>body</th>\n",
       "      <th>user</th>\n",
       "      <th>lang</th>\n",
       "      <th>translation</th>\n",
       "    </tr>\n",
       "  </thead>\n",
       "  <tbody>\n",
       "    <tr>\n",
       "      <th>0</th>\n",
       "      <td>Didn’t live up to the hype, not worth the $</td>\n",
       "      <td>Still advertising photos looked better than th...</td>\n",
       "      <td>Alicia H.</td>\n",
       "      <td>en</td>\n",
       "      <td>Still advertising photos looked better than th...</td>\n",
       "    </tr>\n",
       "    <tr>\n",
       "      <th>1</th>\n",
       "      <td>Nice 1hr show to enjoy with family</td>\n",
       "      <td>A nice show with good music during the present...</td>\n",
       "      <td>Timo Marquez</td>\n",
       "      <td>en</td>\n",
       "      <td>A nice show with good music during the present...</td>\n",
       "    </tr>\n",
       "    <tr>\n",
       "      <th>2</th>\n",
       "      <td>Unique</td>\n",
       "      <td>The hour long program continues on a loop so y...</td>\n",
       "      <td>milwmomof4</td>\n",
       "      <td>en</td>\n",
       "      <td>The hour long program continues on a loop so y...</td>\n",
       "    </tr>\n",
       "    <tr>\n",
       "      <th>3</th>\n",
       "      <td>Different perspective than traditionnal museums</td>\n",
       "      <td>Great Dali and Gaudi show.It's worth a trip, t...</td>\n",
       "      <td>Yann2002</td>\n",
       "      <td>en</td>\n",
       "      <td>Great Dali and Gaudi show.It's worth a trip, t...</td>\n",
       "    </tr>\n",
       "    <tr>\n",
       "      <th>4</th>\n",
       "      <td>Different way to view art</td>\n",
       "      <td>Nice way to view art in a different way. When ...</td>\n",
       "      <td>Kaylee</td>\n",
       "      <td>en</td>\n",
       "      <td>Nice way to view art in a different way. When ...</td>\n",
       "    </tr>\n",
       "  </tbody>\n",
       "</table>\n",
       "</div>"
      ],
      "text/plain": [
       "                                             title  \\\n",
       "0      Didn’t live up to the hype, not worth the $   \n",
       "1               Nice 1hr show to enjoy with family   \n",
       "2                                           Unique   \n",
       "3  Different perspective than traditionnal museums   \n",
       "4                        Different way to view art   \n",
       "\n",
       "                                                body          user lang  \\\n",
       "0  Still advertising photos looked better than th...     Alicia H.   en   \n",
       "1  A nice show with good music during the present...  Timo Marquez   en   \n",
       "2  The hour long program continues on a loop so y...    milwmomof4   en   \n",
       "3  Great Dali and Gaudi show.It's worth a trip, t...      Yann2002   en   \n",
       "4  Nice way to view art in a different way. When ...        Kaylee   en   \n",
       "\n",
       "                                         translation  \n",
       "0  Still advertising photos looked better than th...  \n",
       "1  A nice show with good music during the present...  \n",
       "2  The hour long program continues on a loop so y...  \n",
       "3  Great Dali and Gaudi show.It's worth a trip, t...  \n",
       "4  Nice way to view art in a different way. When ...  "
      ]
     },
     "metadata": {},
     "execution_count": 145
    }
   ],
   "metadata": {}
  },
  {
   "cell_type": "code",
   "execution_count": 146,
   "source": [
    "reviews[reviews['lang'] == 'es']"
   ],
   "outputs": [
    {
     "output_type": "execute_result",
     "data": {
      "text/html": [
       "<div>\n",
       "<style scoped>\n",
       "    .dataframe tbody tr th:only-of-type {\n",
       "        vertical-align: middle;\n",
       "    }\n",
       "\n",
       "    .dataframe tbody tr th {\n",
       "        vertical-align: top;\n",
       "    }\n",
       "\n",
       "    .dataframe thead th {\n",
       "        text-align: right;\n",
       "    }\n",
       "</style>\n",
       "<table border=\"1\" class=\"dataframe\">\n",
       "  <thead>\n",
       "    <tr style=\"text-align: right;\">\n",
       "      <th></th>\n",
       "      <th>title</th>\n",
       "      <th>body</th>\n",
       "      <th>user</th>\n",
       "      <th>lang</th>\n",
       "      <th>translation</th>\n",
       "    </tr>\n",
       "  </thead>\n",
       "  <tbody>\n",
       "    <tr>\n",
       "      <th>10</th>\n",
       "      <td>Un gran cine, al fin y al cabo</td>\n",
       "      <td>Es una única pero enorme sala de techos altos ...</td>\n",
       "      <td>pedro jose c</td>\n",
       "      <td>es</td>\n",
       "      <td>It is a unique but enormous room with high cei...</td>\n",
       "    </tr>\n",
       "    <tr>\n",
       "      <th>11</th>\n",
       "      <td>Visita decepcionante</td>\n",
       "      <td>La idea es buena, la técnica de proyeccion de ...</td>\n",
       "      <td>marcela256</td>\n",
       "      <td>es</td>\n",
       "      <td>The idea is good, the technique of projecting ...</td>\n",
       "    </tr>\n",
       "    <tr>\n",
       "      <th>12</th>\n",
       "      <td>Wow</td>\n",
       "      <td>Muy lindo y  diferente admirar el arte de otra...</td>\n",
       "      <td>MarisaTortugas</td>\n",
       "      <td>es</td>\n",
       "      <td>Very nice and different to admire art in anoth...</td>\n",
       "    </tr>\n",
       "    <tr>\n",
       "      <th>13</th>\n",
       "      <td>El oro de klimt</td>\n",
       "      <td>Si quereis conocer al pintor y su obra , busca...</td>\n",
       "      <td>Marian</td>\n",
       "      <td>es</td>\n",
       "      <td>If you want to know the painter and his work ,...</td>\n",
       "    </tr>\n",
       "    <tr>\n",
       "      <th>14</th>\n",
       "      <td>Maravilloso!</td>\n",
       "      <td>Visité la muestra de Van Gogh junto a mi hijo ...</td>\n",
       "      <td>aandrade</td>\n",
       "      <td>es</td>\n",
       "      <td>I visited Van Gogh's show with my 9-year-old s...</td>\n",
       "    </tr>\n",
       "    <tr>\n",
       "      <th>15</th>\n",
       "      <td>Una actividad distinta</td>\n",
       "      <td>Nos gustó.  Consta de tres proyecciones Dos co...</td>\n",
       "      <td>Flandes18</td>\n",
       "      <td>es</td>\n",
       "      <td>We liked it.  It consists of three projections...</td>\n",
       "    </tr>\n",
       "    <tr>\n",
       "      <th>16</th>\n",
       "      <td>Bien pero...</td>\n",
       "      <td>La exposición muy bien, lo que esperaba.. dura...</td>\n",
       "      <td>Sieresobesoapechugas</td>\n",
       "      <td>es</td>\n",
       "      <td>The exhibition very well, what I expected.. it...</td>\n",
       "    </tr>\n",
       "    <tr>\n",
       "      <th>17</th>\n",
       "      <td>Impresionante</td>\n",
       "      <td>Acudí movido por las opiniones que había leído...</td>\n",
       "      <td>GonzaloS</td>\n",
       "      <td>es</td>\n",
       "      <td>I came in moved by the opinions I had read abo...</td>\n",
       "    </tr>\n",
       "    <tr>\n",
       "      <th>18</th>\n",
       "      <td>Una experiencia diferente</td>\n",
       "      <td>Para tener una experiencia de arte diferente y...</td>\n",
       "      <td>bako1973</td>\n",
       "      <td>es</td>\n",
       "      <td>For a different and contemporary art experienc...</td>\n",
       "    </tr>\n",
       "    <tr>\n",
       "      <th>19</th>\n",
       "      <td>Espectacular!!!!!</td>\n",
       "      <td>Tenía programada visita a Paris para las fecha...</td>\n",
       "      <td>Carolina G</td>\n",
       "      <td>es</td>\n",
       "      <td></td>\n",
       "    </tr>\n",
       "    <tr>\n",
       "      <th>20</th>\n",
       "      <td>EXHIBICIÓN MUY DIFERENTE DE LA OBRA DE VAN GOGH</td>\n",
       "      <td>Un lugar excelente para presentaciones muy dif...</td>\n",
       "      <td>Natàlia Q</td>\n",
       "      <td>es</td>\n",
       "      <td>An excellent place for very different presenta...</td>\n",
       "    </tr>\n",
       "    <tr>\n",
       "      <th>21</th>\n",
       "      <td>Alucinante muestra inmersiva</td>\n",
       "      <td>Una muestra inmersiva alucinante, con imágene...</td>\n",
       "      <td>L&amp;L75</td>\n",
       "      <td>es</td>\n",
       "      <td></td>\n",
       "    </tr>\n",
       "    <tr>\n",
       "      <th>22</th>\n",
       "      <td>Importante centro artístico</td>\n",
       "      <td>El Atelier des Lumiere está situado entre La B...</td>\n",
       "      <td>erica vera</td>\n",
       "      <td>es</td>\n",
       "      <td></td>\n",
       "    </tr>\n",
       "    <tr>\n",
       "      <th>23</th>\n",
       "      <td>Muestra Klimt</td>\n",
       "      <td>Me encanto! Una muestra distinta, proyección d...</td>\n",
       "      <td>Ana Maria V</td>\n",
       "      <td>es</td>\n",
       "      <td></td>\n",
       "    </tr>\n",
       "  </tbody>\n",
       "</table>\n",
       "</div>"
      ],
      "text/plain": [
       "                                              title  \\\n",
       "10                   Un gran cine, al fin y al cabo   \n",
       "11                             Visita decepcionante   \n",
       "12                                              Wow   \n",
       "13                                  El oro de klimt   \n",
       "14                                     Maravilloso!   \n",
       "15                           Una actividad distinta   \n",
       "16                                     Bien pero...   \n",
       "17                                   Impresionante    \n",
       "18                        Una experiencia diferente   \n",
       "19                                Espectacular!!!!!   \n",
       "20  EXHIBICIÓN MUY DIFERENTE DE LA OBRA DE VAN GOGH   \n",
       "21                     Alucinante muestra inmersiva   \n",
       "22                      Importante centro artístico   \n",
       "23                                    Muestra Klimt   \n",
       "\n",
       "                                                 body                  user  \\\n",
       "10  Es una única pero enorme sala de techos altos ...          pedro jose c   \n",
       "11  La idea es buena, la técnica de proyeccion de ...            marcela256   \n",
       "12  Muy lindo y  diferente admirar el arte de otra...        MarisaTortugas   \n",
       "13  Si quereis conocer al pintor y su obra , busca...                Marian   \n",
       "14  Visité la muestra de Van Gogh junto a mi hijo ...              aandrade   \n",
       "15  Nos gustó.  Consta de tres proyecciones Dos co...             Flandes18   \n",
       "16  La exposición muy bien, lo que esperaba.. dura...  Sieresobesoapechugas   \n",
       "17  Acudí movido por las opiniones que había leído...              GonzaloS   \n",
       "18  Para tener una experiencia de arte diferente y...              bako1973   \n",
       "19  Tenía programada visita a Paris para las fecha...            Carolina G   \n",
       "20  Un lugar excelente para presentaciones muy dif...             Natàlia Q   \n",
       "21   Una muestra inmersiva alucinante, con imágene...                 L&L75   \n",
       "22  El Atelier des Lumiere está situado entre La B...            erica vera   \n",
       "23  Me encanto! Una muestra distinta, proyección d...           Ana Maria V   \n",
       "\n",
       "   lang                                        translation  \n",
       "10   es  It is a unique but enormous room with high cei...  \n",
       "11   es  The idea is good, the technique of projecting ...  \n",
       "12   es  Very nice and different to admire art in anoth...  \n",
       "13   es  If you want to know the painter and his work ,...  \n",
       "14   es  I visited Van Gogh's show with my 9-year-old s...  \n",
       "15   es  We liked it.  It consists of three projections...  \n",
       "16   es  The exhibition very well, what I expected.. it...  \n",
       "17   es  I came in moved by the opinions I had read abo...  \n",
       "18   es  For a different and contemporary art experienc...  \n",
       "19   es                                                     \n",
       "20   es  An excellent place for very different presenta...  \n",
       "21   es                                                     \n",
       "22   es                                                     \n",
       "23   es                                                     "
      ]
     },
     "metadata": {},
     "execution_count": 146
    }
   ],
   "metadata": {}
  },
  {
   "cell_type": "code",
   "execution_count": null,
   "source": [
    "reviews.to_csv('reviews_translated.csv')"
   ],
   "outputs": [],
   "metadata": {}
  },
  {
   "cell_type": "code",
   "execution_count": null,
   "source": [],
   "outputs": [],
   "metadata": {}
  }
 ],
 "metadata": {
  "orig_nbformat": 4,
  "language_info": {
   "name": "python",
   "version": "3.8.5",
   "mimetype": "text/x-python",
   "codemirror_mode": {
    "name": "ipython",
    "version": 3
   },
   "pygments_lexer": "ipython3",
   "nbconvert_exporter": "python",
   "file_extension": ".py"
  },
  "kernelspec": {
   "name": "python3",
   "display_name": "Python 3.8.5 64-bit ('base': conda)"
  },
  "interpreter": {
   "hash": "1f1ade11a66f379951eb785ed5ab9940defd282e53b6a037182efca5c962c31b"
  }
 },
 "nbformat": 4,
 "nbformat_minor": 2
}